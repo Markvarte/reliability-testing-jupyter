{
 "cells": [
  {
   "cell_type": "markdown",
   "id": "8c697d37",
   "metadata": {},
   "source": [
    "### Bibliotēku importēšana"
   ]
  },
  {
   "cell_type": "code",
   "execution_count": 136,
   "id": "233f4ac7",
   "metadata": {},
   "outputs": [],
   "source": [
    "import numpy as np\n",
    "import pandas as pd\n",
    "import os\n",
    "import matplotlib.pyplot as plt"
   ]
  },
  {
   "cell_type": "markdown",
   "id": "5d56473f",
   "metadata": {},
   "source": [
    "### Testēšanas datu importēšana"
   ]
  },
  {
   "cell_type": "markdown",
   "id": "392391c6",
   "metadata": {},
   "source": [
    "Sekojošā koda blokā tabulāras testēšanas dati tiek importēti pandas dataFrame struktūra."
   ]
  },
  {
   "cell_type": "markdown",
   "id": "c94b7e7d",
   "metadata": {},
   "source": [
    "Ir iespējams specificēt <b>testēšanas projektu, mapi project_dir,</b> un testēšanas datu failus excel formātā:<b> file_ekspon un file_nelson,</b> no kuriem tiek ņemti testēšanas dati drošuma novertēšanai. file_ekspon - satur testēšanas datus vienkāršam eksponenciālam modelim, bet file_nelson - Nelsona modelim."
   ]
  },
  {
   "cell_type": "code",
   "execution_count": 70,
   "id": "72ec31f2",
   "metadata": {},
   "outputs": [
    {
     "name": "stdout",
     "output_type": "stream",
     "text": [
      "   testēšanas posma nr.  posma ilgums (dienas)  kļūdu skaits\n",
      "0                     1                 0.0830            27\n",
      "1                     2                 0.0700            11\n",
      "2                     3                 0.0500             5\n",
      "3                     4                 0.0400             4\n",
      "4                     5                 0.0400             3\n",
      "5                     6                 0.0200             1\n",
      "6                     7                 0.0095             1\n",
      "7                     8                 0.0080             2\n",
      "8                     9                 0.0080             1\n",
      "\n",
      "    Testa nr.   Kļūdu skaits \n",
      "0            1              0\n",
      "1            2              0\n",
      "2            3              0\n",
      "3            4              0\n",
      "4            5              0\n",
      "..         ...            ...\n",
      "85          86              0\n",
      "86          87              0\n",
      "87          88              0\n",
      "88          89              1\n",
      "89          90              1\n",
      "\n",
      "[90 rows x 2 columns]\n"
     ]
    }
   ],
   "source": [
    "path = os.getcwd()\n",
    "\n",
    "project_dir = 'prog2' \n",
    "file_ekspon = 'ld2-prog2-test-dati-ekspon.xlsx'\n",
    "file_nelson = 'ld2-prog2-test-dati-nelsonam.xlsx'\n",
    "\n",
    "df_ekspon = pd.read_excel(os.path.join(path, project_dir, file_ekspon))\n",
    "df_nelson = pd.read_excel(os.path.join(path, project_dir, file_nelson))\n",
    "print (df_ekspon, df_nelson, sep='\\n\\n')"
   ]
  },
  {
   "cell_type": "markdown",
   "id": "51c2f29d",
   "metadata": {},
   "source": [
    "### Datu priekšapstrāde "
   ]
  },
  {
   "cell_type": "markdown",
   "id": "e7cdc7c9",
   "metadata": {},
   "source": [
    "Nelsona modelim tiek definēts kopējo testu skaits N un kļūdaino testu skaits N0. Savukārt, eksponenciālam modeļim tabula tiek papīldināta ar kopējo kļūdu skaitu (n) līdz noteiktam laikam (t) un tiek atlasīti sekojoši mainīgie: posmu skaits m, saraksts ar posma ilgumiem t, saraksts n, kas satur kopējo kļūdu skaitu līdz noteiktam laikam t(i)"
   ]
  },
  {
   "cell_type": "code",
   "execution_count": 71,
   "id": "3311be74",
   "metadata": {},
   "outputs": [],
   "source": [
    "# Pardefinēt colonnas\n",
    "df_nelson.columns = ['nr', 'kl_sk']\n",
    "df_ekspon.columns = ['posma_nr', 't', 'kl_sk']"
   ]
  },
  {
   "cell_type": "code",
   "execution_count": 72,
   "id": "cb466b35",
   "metadata": {},
   "outputs": [
    {
     "name": "stdout",
     "output_type": "stream",
     "text": [
      "Priekš nelsona modeļa testu skaits un kļūdaino testu skaits: 90 27\n",
      "\n",
      "Priekš vienkārša eksponenciāla modeļa:\n",
      "\n",
      "   posma_nr       t  kl_sk   n\n",
      "0         1  0.0830     27  27\n",
      "1         2  0.0700     11  38\n",
      "2         3  0.0500      5  43\n",
      "3         4  0.0400      4  47\n",
      "4         5  0.0400      3  50\n",
      "5         6  0.0200      1  51\n",
      "6         7  0.0095      1  52\n",
      "7         8  0.0080      2  54\n",
      "8         9  0.0080      1  55\n",
      "posmu skaits m: 9\n"
     ]
    }
   ],
   "source": [
    "N = df_nelson.nr.count()\n",
    "N0 = df_nelson.kl_sk.sum()\n",
    "print('Priekš nelsona modeļa testu skaits un kļūdaino testu skaits:', N, N0)\n",
    "\n",
    "df_ekspon['n'] = df_ekspon['kl_sk'].cumsum()\n",
    "m = df_ekspon.posma_nr.count()\n",
    "n = df_ekspon['n'].tolist()\n",
    "t = df_ekspon['t'].tolist()\n",
    "print('\\nPriekš vienkārša eksponenciāla modeļa:\\n')\n",
    "print(df_ekspon)\n",
    "print('posmu skaits m:', m)"
   ]
  },
  {
   "cell_type": "markdown",
   "id": "902fcf9e",
   "metadata": {},
   "source": [
    "### Modeļu realizācija"
   ]
  },
  {
   "cell_type": "markdown",
   "id": "ddcf3784",
   "metadata": {},
   "source": [
    "Laboratorijas darba ietvaros tika implementēti divi modeļi: <b>Nelsona modelis</b> un <b>Vienkāršais eksponenciālais modelis</b>. Abu modeļu funkcijas ir dotas Zemāk:\n",
    "#### 1. Nelsona modelis"
   ]
  },
  {
   "cell_type": "markdown",
   "id": "5cd37c7d",
   "metadata": {},
   "source": [
    "Nelsona modelis ir statistiskais drošuma modeļis, kurš pieņem, ka varbūtība, ka programma strādās ar atteicēm ir vienāda ar kļūdaino testu attiecību pret visu izpildītu testu kopu. Līdz ar to bezatteices vārbūtība ir 1 - varbūtība, ka programma strādās ar atteicēm."
   ]
  },
  {
   "cell_type": "code",
   "execution_count": 73,
   "id": "395b5d1e",
   "metadata": {},
   "outputs": [],
   "source": [
    "def nelsona_drosums(N: '''testu skaits''', N0: '''kļudaino testu skaits'''):\n",
    "    return 1-N0/N"
   ]
  },
  {
   "cell_type": "markdown",
   "id": "8eb78f50",
   "metadata": {},
   "source": [
    "#### 2. Vienkāršais eksponencialais modeļis"
   ]
  },
  {
   "cell_type": "markdown",
   "id": "a7097ff7",
   "metadata": {},
   "source": [
    "Vienkāršais eksponencialais modeļis pieder pie dinamiskiem diskrētiem drošuma modeļiem un pamatojas uz Dželinska morandes modeļi, kurš bija aprakstīts 1. laboratorijas darbā. Vienkāršais eksponencialais modeļis pieņem, ka \n",
    "<li>Kļūdu atklāšanas intensitāte ir proporcionāla palikušo kļūdu skaitam </li>\n",
    "<li>Kļūdas ir neatkarīgas un tām vienāda varbūtība</li>\n",
    "<li>Kļūdas ir vienādi svarīgas </li>\n",
    "<li>Laikam starp atteicēm ir eksponenciāls sadalījums </li>\n",
    "<li>Kļūdas tiek labotas, neienesot jaunas</li>"
   ]
  },
  {
   "cell_type": "code",
   "execution_count": 74,
   "id": "5de6a148",
   "metadata": {},
   "outputs": [],
   "source": [
    "def ekspon_drosums(m: '''testēšanas posmu skaits''', n: '''list, laikā ti atrasto kļūdu skaits''', t: '''list, posma laiks '''):\n",
    "    b = (sum([t[i]*np.log(n[i]) for i in range(m)])) - (1/m)*(sum(np.log(n))*sum(t)) / (sum([ti**2 for ti in t])-(1/m)*sum(t)**2)\n",
    "    K = -b\n",
    "    a = (1/m)*sum(np.log(n)) - ((1/m)*sum(t))*b\n",
    "    N = np.exp(a)/K  # Sākumkļūdu skaits\n",
    "    t1 = a/K  # Kļūdu rašanās intensitātes samazināšanas laiks (līdz vienai kļūdai laika vienībā)\n",
    "    R = np.exp([a+b*ti for ti in t])\n",
    "    return N, R, t1"
   ]
  },
  {
   "cell_type": "markdown",
   "id": "d8c1e18e",
   "metadata": {},
   "source": [
    "### Iegūtie rezultāti"
   ]
  },
  {
   "cell_type": "markdown",
   "id": "440e9724",
   "metadata": {},
   "source": [
    "### 1. Nelsona modelis"
   ]
  },
  {
   "cell_type": "code",
   "execution_count": 75,
   "id": "61438db0",
   "metadata": {},
   "outputs": [
    {
     "name": "stdout",
     "output_type": "stream",
     "text": [
      "Testējāmas programmas statiskais drošums:  0.7\n"
     ]
    }
   ],
   "source": [
    "y_nelson = nelsona_drosums(N, N0)\n",
    "print('Testējāmas programmas statiskais drošums: ', y_nelson)"
   ]
  },
  {
   "cell_type": "code",
   "execution_count": 145,
   "id": "a6bf52da",
   "metadata": {
    "scrolled": true
   },
   "outputs": [
    {
     "data": {
      "image/png": "[encoded data removed]",
      "text/plain": [
       "<Figure size 432x288 with 1 Axes>"
      ]
     },
     "metadata": {
      "needs_background": "light"
     },
     "output_type": "display_data"
    }
   ],
   "source": [
    "fig, ax = plt.subplots()\n",
    "y = y_nelson\n",
    "ax.plot([1, 2, 3, 4, 5], [y, y, y, y, y])\n",
    "ax.set_xlabel('laiks t')\n",
    "ax.set_ylabel('drošums R')\n",
    "ax.set_title('Nelsona drošuma funkcija')\n",
    "plt.show()"
   ]
  },
  {
   "cell_type": "markdown",
   "id": "1a7aca5e",
   "metadata": {},
   "source": [
    "Tā kā statiskie drošuma modeļi nav atkārīgi no laika, to grafiks izskatās, ka taisna linija ar constantu drošuma novertējuma vertību visā programmatūras darbības laikā. "
   ]
  },
  {
   "cell_type": "markdown",
   "id": "d0b27fbb",
   "metadata": {},
   "source": [
    "### 2. Vienkāršais eksponencialais modeļis"
   ]
  },
  {
   "cell_type": "code",
   "execution_count": 77,
   "id": "2bb7a7d4",
   "metadata": {},
   "outputs": [
    {
     "name": "stdout",
     "output_type": "stream",
     "text": [
      "Sākumkļūdu skaits: 377\n",
      "Drošuma funkcija laikā:\n",
      "\n",
      "           R(t)    t(i)\n",
      "0      0.003497  0.0830\n",
      "1      0.049389  0.0700\n",
      "2      2.902292  0.0500\n",
      "3     22.248264  0.0400\n",
      "4     22.248264  0.0400\n",
      "5   1307.393343  0.0200\n",
      "6  11096.578555  0.0095\n",
      "7  15061.643099  0.0080\n",
      "8  15061.643099  0.0080\n",
      "\n",
      "Kļūdu rašanās intensitātes samazināšanas laiks: 0.055231342605050714\n"
     ]
    }
   ],
   "source": [
    "N, R, t1 = ekspon_drosums(m, n, t)\n",
    "print('Sākumkļūdu skaits:', int(N))\n",
    "print('Drošuma funkcija laikā:\\n')\n",
    "Rt_ekspon_data = [[R[i], t[i]] for i in range(m)]\n",
    "df_res_Rt_ekspon = pd.DataFrame(Rt_ekspon_data, columns=[\"R(t)\", \"t(i)\"])\n",
    "print(df_res_Rt_ekspon)\n",
    "print('\\nKļūdu rašanās intensitātes samazināšanas laiks:', t1)"
   ]
  },
  {
   "cell_type": "code",
   "execution_count": 131,
   "id": "90465405",
   "metadata": {},
   "outputs": [
    {
     "data": {
      "image/png": "[encoded data removed]",
      "text/plain": [
       "<Figure size 432x288 with 1 Axes>"
      ]
     },
     "metadata": {
      "needs_background": "light"
     },
     "output_type": "display_data"
    }
   ],
   "source": [
    "fig, ax = plt.subplots()\n",
    "ax.plot(t, R)\n",
    "ax.set_xlabel('laiks t')\n",
    "ax.set_ylabel('drošums R')\n",
    "ax.set_title('Vienkārša eksponenciala modeļa drošuma funkcija laikā')\n",
    "plt.show()"
   ]
  },
  {
   "cell_type": "markdown",
   "id": "f52ec1dc",
   "metadata": {},
   "source": [
    "Papildus ir iespējams izvadīt drosuma atkārību no kopējā kļūdu skaita līdz noteiktam laikam, tas ir R atkārīgu no n."
   ]
  },
  {
   "cell_type": "code",
   "execution_count": 79,
   "id": "7b0bdd23",
   "metadata": {},
   "outputs": [
    {
     "name": "stdout",
     "output_type": "stream",
     "text": [
      "           R(t)  n(i)\n",
      "0      0.003497    27\n",
      "1      0.049389    38\n",
      "2      2.902292    43\n",
      "3     22.248264    47\n",
      "4     22.248264    50\n",
      "5   1307.393343    51\n",
      "6  11096.578555    52\n",
      "7  15061.643099    54\n",
      "8  15061.643099    55\n"
     ]
    }
   ],
   "source": [
    "Rn_ekspon_data = [[R[i], n[i]] for i in range(m)]\n",
    "df_res_Rn_ekspon = pd.DataFrame(Rn_ekspon_data, columns=[\"R(t)\", \"n(i)\"])\n",
    "print(df_res_Rn_ekspon)"
   ]
  },
  {
   "cell_type": "code",
   "execution_count": 80,
   "id": "f89dc9d7",
   "metadata": {},
   "outputs": [
    {
     "data": {
      "image/png": "[encoded data removed]",
      "text/plain": [
       "<Figure size 432x288 with 1 Axes>"
      ]
     },
     "metadata": {
      "needs_background": "light"
     },
     "output_type": "display_data"
    }
   ],
   "source": [
    "fig, ax = plt.subplots()\n",
    "ax.plot(n, R)\n",
    "ax.set_xlabel('kļūdu skaits laikā, n')\n",
    "ax.set_ylabel('drošums R')\n",
    "ax.set_title('Vienkārša eksponenciala modeļa drošuma funkcijas R atkarība no kļūdu skaita n')\n",
    "plt.show()"
   ]
  },
  {
   "cell_type": "markdown",
   "id": "c095111f",
   "metadata": {},
   "source": [
    "### Rezultātu salīdzinājums"
   ]
  },
  {
   "cell_type": "markdown",
   "id": "60a18e0f",
   "metadata": {},
   "source": [
    "Sakara ar to, ka ir izvelēts statiksais un dinamiskais drošuma modeļi to savstarpēja salīdzināšana ir apgrūtināma, bet ir iespējams redzet spilgtas atšķirības to rezultātos. Statiskais drosuma modelis dod vienu drošuma raditāju, kas ir atkarīgs no kļūdu un testu skaita. Jo lielāks ir kļūdaino testu skaits, jo mazāka ir programmatūras drošība. Modelis neievero drošuma dinamiku un neprasa skaitīt laiku. "
   ]
  },
  {
   "cell_type": "markdown",
   "id": "8d1a77c0",
   "metadata": {},
   "source": [
    "Savukārt vienkāršais eksponenciālais modeļis saņem plašākus testa datus. Tam ir nepieciešams zināt katra testēšanas posma īlgumu, kurš dota gadījuma ir skaitīts dienās (jo maza t(i) vertība (< 0) dod labākus drošuma rezultātus). Katram posmam, kurš sastāv no vienāda testu skaita, tiek izrēķināts kļūdu skaits un kopējais kļūdu skaits laikā līdz noteikam posmam. Rezultātā, vienkāršais eksponenscialais modelis rēķina drošību atkarība no kopēja kļūdu skaita līdz noteikam posmam un atkārībā no laika, ko aizņem katrs posms."
   ]
  },
  {
   "cell_type": "markdown",
   "id": "2305b44d",
   "metadata": {},
   "source": [
    "Aprakstītu dažadību ir iespejams aplukot skaitliskā veidā:"
   ]
  },
  {
   "cell_type": "code",
   "execution_count": 86,
   "id": "f9f5f5ca",
   "metadata": {},
   "outputs": [
    {
     "name": "stdout",
     "output_type": "stream",
     "text": [
      "Nelsona modeļa drošums: 0.7\n",
      "\n",
      "Vienkāršā eksponenciālā modeļa drošums:\n",
      "            R(t)    t(i)\n",
      "0      0.003497  0.0830\n",
      "1      0.049389  0.0700\n",
      "2      2.902292  0.0500\n",
      "3     22.248264  0.0400\n",
      "4     22.248264  0.0400\n",
      "5   1307.393343  0.0200\n",
      "6  11096.578555  0.0095\n",
      "7  15061.643099  0.0080\n",
      "8  15061.643099  0.0080\n"
     ]
    }
   ],
   "source": [
    "print('Nelsona modeļa drošums:', y_nelson)\n",
    "print('\\nVienkāršā eksponenciālā modeļa drošums:\\n', df_res_Rt_ekspon)"
   ]
  },
  {
   "cell_type": "markdown",
   "id": "97f651bc",
   "metadata": {},
   "source": [
    "Savukārt grafiska veidā, pieņēmot, ka Nelsona drošuma funkcija ir konstanta laikā, ir iespējams konstruēt abas funkcijas vienā plaknē, apskatoties, kā tie atšķirās sava starpā:"
   ]
  },
  {
   "cell_type": "code",
   "execution_count": 89,
   "id": "0c5df463",
   "metadata": {},
   "outputs": [
    {
     "data": {
      "image/png": "[encoded data removed]",
      "text/plain": [
       "<Figure size 432x288 with 1 Axes>"
      ]
     },
     "metadata": {
      "needs_background": "light"
     },
     "output_type": "display_data"
    }
   ],
   "source": [
    "fig, ax = plt.subplots()\n",
    "ax.plot(t, R)\n",
    "ax.plot(t, [y_nelson for _ in range(m)])\n",
    "ax.set_xlabel('laiks t')\n",
    "ax.set_ylabel('drošums R')\n",
    "ax.set_title('Drosuma funkciju salīdzinājums')\n",
    "ax.legend(['vienk. eksponenciālais modeļis', 'Nelsona modelis'])\n",
    "plt.show()"
   ]
  },
  {
   "cell_type": "markdown",
   "id": "a7d12435",
   "metadata": {},
   "source": [
    "Eksponencialais modelis izreķināja ļoti lielus skaitļus, kurus var atmest, lai redzetu abu modeļu krustpunktu. Tapēc tika ievēroti pirmie 4 testēšanas posmi un tika sanemt pārskatamaks grafiks:"
   ]
  },
  {
   "cell_type": "code",
   "execution_count": 144,
   "id": "e2bf32ad",
   "metadata": {
    "scrolled": true
   },
   "outputs": [
    {
     "name": "stdout",
     "output_type": "stream",
     "text": [
      "Tuvakāis t(i)= 0.07 posms(i) = 2\n",
      "Precīzs laiks: 0.066\n"
     ]
    },
    {
     "data": {
      "image/png": "[encoded data removed]",
      "text/plain": [
       "<Figure size 432x288 with 1 Axes>"
      ]
     },
     "metadata": {
      "needs_background": "light"
     },
     "output_type": "display_data"
    }
   ],
   "source": [
    "fig, ax = plt.subplots()\n",
    "x = np.asarray([t[i] for i in range(4)])\n",
    "f = np.asarray([R[i] for i in range(4)])\n",
    "g = np.asarray([y_nelson for _ in range(4)])\n",
    "ax.plot(x, f)\n",
    "ax.plot(x, g)\n",
    "ax.set_xlabel('laiks t')\n",
    "ax.set_ylabel('drošums R')\n",
    "ax.set_title('Drosuma funkciju salīdzinājums')\n",
    "ax.legend(['vienk. eksponenciālais modeļis', 'Nelsona modelis'])\n",
    "idx = np.argwhere(np.diff(np.sign(f - g))).flatten()\n",
    "plt.plot(x[idx], y_nelson, 'ro')\n",
    "print('Tuvakāis t(i)=', *x[idx], 'posms(i) =', *idx+1)\n",
    "# print('Precīzs laiks:', 0.066)\n",
    "# plt.plot(0.066, y_nelson, 'go')\n",
    "plt.show()"
   ]
  },
  {
   "cell_type": "markdown",
   "id": "c3155a35",
   "metadata": {},
   "source": [
    "Redzamais grafiks parāda, ka abi modeli krustojās. Ta kā posma laiks t ir diskrēts (saraksts ar vertībām), pats tuvākāis pie krustošanas punkts ir iezīmēt ar sarkāno krāsu. To vertība ir izvadīta pirms grafika. Precīzu punktu ir iespējams noteit vai nu manuāli spelējoties ar grafiku, vai sadalot laiku t sīkākās daļās. "
   ]
  },
  {
   "cell_type": "markdown",
   "id": "6686dc6b",
   "metadata": {},
   "source": [
    "### Rezultātu saglabāšana"
   ]
  },
  {
   "cell_type": "markdown",
   "id": "bc4d9a80",
   "metadata": {},
   "source": [
    "Dotu dokumentu ar visiem grafikiem un rezultātiem ir iespējams saglabāk vairākos formātos. Nospiežot <b>file -> download as</b> un izvelēties nepieciešamo formātu. Teksta dokumenta iegūsanai ir ieteicāmi <b>.pdf .html</b> formāti. Interaktīvam mainīgam dokumentam <b>.ipynb</b>, koda iegūšanai <b>.py</b>. Ir pieejāmi ari citi saglabašanas formāti."
   ]
  },
  {
   "cell_type": "code",
   "execution_count": null,
   "id": "e53358cf",
   "metadata": {},
   "outputs": [],
   "source": []
  }
 ],
 "metadata": {
  "kernelspec": {
   "display_name": "Python 3 (ipykernel)",
   "language": "python",
   "name": "python3"
  },
  "language_info": {
   "codemirror_mode": {
    "name": "ipython",
    "version": 3
   },
   "file_extension": ".py",
   "mimetype": "text/x-python",
   "name": "python",
   "nbconvert_exporter": "python",
   "pygments_lexer": "ipython3",
   "version": "3.9.12"
  }
 },
 "nbformat": 4,
 "nbformat_minor": 5
}
